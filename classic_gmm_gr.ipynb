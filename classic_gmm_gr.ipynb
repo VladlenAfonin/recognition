{
 "cells": [
  {
   "cell_type": "code",
   "execution_count": null,
   "source": [
    "import numpy as np\n",
    "import librosa\n",
    "import os\n",
    "from sklearn.mixture import GaussianMixture"
   ],
   "outputs": [],
   "metadata": {}
  },
  {
   "cell_type": "code",
   "execution_count": null,
   "source": [
    "def preprocess(utterance):\n",
    "    max_db = np.max(librosa.amplitude_to_db(utterance))\n",
    "    intervals = librosa.effects.split(utterance, top_db=41, ref=max_db)\n",
    "\n",
    "    new_utterance = np.empty((0,))\n",
    "    for i in intervals:\n",
    "        new_utterance = np.hstack((new_utterance, utterance[i[0]:i[1]]))\n",
    "\n",
    "    return new_utterance\n",
    "\n",
    "def get_features(utterance: np.ndarray, sr: int, n_mfccs: int=20):\n",
    "\n",
    "    mfccs  = librosa.feature.mfcc(utterance, sr, n_mfcc=n_mfccs)\n",
    "    mfccs1 = librosa.feature.delta(mfccs)\n",
    "    mfccs2 = librosa.feature.delta(mfccs, order=2)\n",
    "\n",
    "    features = np.hstack((mfccs.T, mfccs1.T, mfccs2.T))\n",
    "    return features"
   ],
   "outputs": [],
   "metadata": {}
  },
  {
   "cell_type": "code",
   "execution_count": null,
   "source": [
    "def get_gmm(directory: str) -> GaussianMixture:\n",
    "\n",
    "    features = np.empty((0, 60))\n",
    "    for filepath in os.listdir(directory):\n",
    "        utt, sr = librosa.load(os.path.join(directory, filepath))\n",
    "\n",
    "        utt = preprocess(utt)\n",
    "        if utt.shape[0] == 0:\n",
    "            continue\n",
    "\n",
    "        utt = librosa.util.normalize(utt)\n",
    "        features = np.vstack((features, get_features(utt, sr)))\n",
    "\n",
    "    gmm = GaussianMixture(n_components=128,\n",
    "                          covariance_type='diag',\n",
    "                          n_init=3,\n",
    "                          max_iter=200)\n",
    "\n",
    "    gmm.fit(features)\n",
    "    return gmm\n",
    "\n",
    "def test_gmm(gmms:list[GaussianMixture],\n",
    "             labels: list[str],\n",
    "             correct_label: str,\n",
    "             directory: str):\n",
    "\n",
    "    results = []\n",
    "    for filepath in os.listdir(directory):\n",
    "        utt, sr = librosa.load(os.path.join(directory, filepath))\n",
    "\n",
    "        new_utt = preprocess(utt)\n",
    "        if new_utt.shape[0] < 7000:\n",
    "            new_utt = utt\n",
    "\n",
    "        new_utt = librosa.util.normalize(new_utt)\n",
    "        # print(f'{filepath = }, {utt.shape = }')\n",
    "        features = get_features(new_utt, sr)\n",
    "\n",
    "        prediction = []\n",
    "        for gmm, label in zip(gmms, labels):\n",
    "            prediction.append(gmm.score(features))\n",
    "\n",
    "        results.append(labels[np.argmax(prediction)] == correct_label)\n",
    "\n",
    "    results = np.array(results, dtype=int)\n",
    "\n",
    "    return np.sum(results) / results.shape[0]"
   ],
   "outputs": [],
   "metadata": {}
  },
  {
   "cell_type": "code",
   "execution_count": null,
   "source": [
    "print('Creating GMMs...')\n",
    "gmm_female = get_gmm('./dataset/train_data/female')\n",
    "print('Female GMM done.')\n",
    "gmm_male   = get_gmm('./dataset/train_data/male')\n",
    "print('Make GMM done.')\n",
    "\n",
    "print('Testing...')\n",
    "result_female = test_gmm([gmm_female, gmm_male],\n",
    "                         ['f', 'm'],\n",
    "                         'f',\n",
    "                         './dataset/test_data/female')\n",
    "\n",
    "print(f'Female accuracy: {result_female}')\n",
    "\n",
    "result_male = test_gmm([gmm_female, gmm_male],\n",
    "                       ['f', 'm'],\n",
    "                       'm',\n",
    "                       './dataset/test_data/male')\n",
    "\n",
    "print(f'Male accuracy: {result_male}')"
   ],
   "outputs": [],
   "metadata": {}
  },
  {
   "cell_type": "code",
   "execution_count": null,
   "source": [],
   "outputs": [],
   "metadata": {}
  }
 ],
 "metadata": {
  "kernelspec": {
   "display_name": "Python 3 (ipykernel)",
   "language": "python",
   "name": "python3"
  },
  "language_info": {
   "codemirror_mode": {
    "name": "ipython",
    "version": 3
   },
   "file_extension": ".py",
   "mimetype": "text/x-python",
   "name": "python",
   "nbconvert_exporter": "python",
   "pygments_lexer": "ipython3",
   "version": "3.9.13"
  }
 },
 "nbformat": 4,
 "nbformat_minor": 5
}