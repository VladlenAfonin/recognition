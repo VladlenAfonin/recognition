{
 "cells": [
  {
   "cell_type": "code",
   "execution_count": 1,
   "id": "429dc4af",
   "metadata": {},
   "outputs": [],
   "source": [
    "import os\n",
    "import copy\n",
    "import numpy as np\n",
    "import librosa\n",
    "from scipy.stats import multivariate_normal\n",
    "from sklearn.mixture import GaussianMixture"
   ]
  },
  {
   "cell_type": "code",
   "execution_count": 36,
   "id": "f953cba9",
   "metadata": {},
   "outputs": [],
   "source": [
    "def get_features(utterance: np.ndarray, sr: int, n_mfccs: int=20):\n",
    "\n",
    "    mfccs  = librosa.feature.mfcc(utterance, sr, n_mfcc=n_mfccs)\n",
    "    mfccs1 = librosa.feature.delta(mfccs)\n",
    "    mfccs2 = librosa.feature.delta(mfccs, order=2)\n",
    "\n",
    "    features = np.hstack((mfccs.T, mfccs1.T, mfccs2.T))\n",
    "    return features\n",
    "\n",
    "def get_features_from_directory(directory: str, ignore_files=['.DS_Store']):\n",
    "    \n",
    "    features = np.empty((0, 60))\n",
    "    for filename in os.listdir(directory):\n",
    "        if filename in ignore_files: continue\n",
    "\n",
    "        utt, sr = librosa.load(os.path.join(directory, filename))\n",
    "        utt = librosa.util.normalize(utt)\n",
    "        features_utt = get_features(utt, sr)\n",
    "        features = np.vstack((features, features_utt))\n",
    "    \n",
    "    return features"
   ]
  },
  {
   "cell_type": "code",
   "execution_count": 18,
   "id": "618e646b",
   "metadata": {},
   "outputs": [],
   "source": [
    "def map_adapt(ubm, X, max_iter=100, r=16):\n",
    "    \n",
    "    gmm = copy.deepcopy(ubm)\n",
    "    \n",
    "    for _ in range(max_iter):\n",
    "        n = np.sum(gmm.predict_proba(X), axis=0).reshape(-1, 1) # (K, 1)\n",
    "        X_tilde = (1 / n) * gmm.predict_proba(X).T.dot(X) # (K, F)\n",
    "        alpha = (n / (n + r)).reshape(-1, 1) # (K, 1)\n",
    "        gmm.means_ = alpha * X_tilde + (1 - alpha) * gmm.means_\n",
    "    \n",
    "    return gmm"
   ]
  },
  {
   "cell_type": "code",
   "execution_count": 68,
   "id": "12303139",
   "metadata": {},
   "outputs": [],
   "source": [
    "def test_gmm(gmms: list[GaussianMixture],\n",
    "             labels: list[str],\n",
    "             correct_label: str,\n",
    "             directory: str,\n",
    "             ignore_files=['.DS_Store']):\n",
    "\n",
    "    results = []\n",
    "    for filepath in os.listdir(directory):\n",
    "        if filepath in ignore_files: continue\n",
    "        \n",
    "        utt, sr = librosa.load(os.path.join(directory, filepath))\n",
    "        utt = librosa.util.normalize(utt)\n",
    "        features = get_features(utt, sr)\n",
    "\n",
    "        prediction = []\n",
    "        for gmm, label in zip(gmms, labels):\n",
    "            prediction.append(gmm.score(features))\n",
    "\n",
    "        results.append(labels[np.argmax(prediction)] == correct_label)\n",
    "\n",
    "    results = np.array(results, dtype=int)\n",
    "\n",
    "    return np.sum(results) / results.shape[0]"
   ]
  },
  {
   "cell_type": "markdown",
   "id": "0563dedf",
   "metadata": {},
   "source": [
    "# Training"
   ]
  },
  {
   "cell_type": "code",
   "execution_count": 5,
   "id": "a0f835b6",
   "metadata": {},
   "outputs": [],
   "source": [
    "female_dir = './dataset_supervectors/train_data/UBM/female'\n",
    "male_dir   = './dataset_supervectors/train_data/UBM/male'"
   ]
  },
  {
   "cell_type": "code",
   "execution_count": 6,
   "id": "59d412b6",
   "metadata": {},
   "outputs": [],
   "source": [
    "features_ubm = np.empty((0, 60))\n",
    "for filepath in os.listdir(female_dir):\n",
    "    utt, sr = librosa.load(os.path.join(female_dir, filepath))\n",
    "    utt = librosa.util.normalize(utt)\n",
    "    features_utt = get_features(utt, sr)\n",
    "    features_ubm = np.vstack((features_ubm, features_utt))"
   ]
  },
  {
   "cell_type": "code",
   "execution_count": 7,
   "id": "8b727a41",
   "metadata": {},
   "outputs": [
    {
     "data": {
      "text/plain": [
       "(12954, 60)"
      ]
     },
     "execution_count": 7,
     "metadata": {},
     "output_type": "execute_result"
    }
   ],
   "source": [
    "features_ubm.shape"
   ]
  },
  {
   "cell_type": "code",
   "execution_count": 8,
   "id": "cae723fb",
   "metadata": {},
   "outputs": [],
   "source": [
    "for filepath in os.listdir(male_dir):\n",
    "    utt, sr = librosa.load(os.path.join(male_dir, filepath))\n",
    "    utt = librosa.util.normalize(utt)\n",
    "    features_utt = get_features(utt, sr)\n",
    "    features_ubm = np.vstack((features_ubm, features_utt))"
   ]
  },
  {
   "cell_type": "code",
   "execution_count": 66,
   "id": "6433e03e",
   "metadata": {},
   "outputs": [
    {
     "data": {
      "text/plain": [
       "(25952, 60)"
      ]
     },
     "execution_count": 66,
     "metadata": {},
     "output_type": "execute_result"
    }
   ],
   "source": [
    "features_ubm.shape"
   ]
  },
  {
   "cell_type": "markdown",
   "id": "db3736a7",
   "metadata": {},
   "source": [
    "## Train Universal Background Model"
   ]
  },
  {
   "cell_type": "code",
   "execution_count": 75,
   "id": "0cf57694",
   "metadata": {},
   "outputs": [
    {
     "data": {
      "text/plain": [
       "GaussianMixture(covariance_type='diag', max_iter=200, n_components=32, n_init=3)"
      ]
     },
     "execution_count": 75,
     "metadata": {},
     "output_type": "execute_result"
    }
   ],
   "source": [
    "ubm = GaussianMixture(n_components=32,\n",
    "                      covariance_type='diag',\n",
    "                      n_init=3,\n",
    "                      max_iter=200)\n",
    "\n",
    "ubm.fit(features_ubm)"
   ]
  },
  {
   "cell_type": "code",
   "execution_count": 11,
   "id": "065f3d20",
   "metadata": {},
   "outputs": [
    {
     "data": {
      "text/plain": [
       "(128, 60)"
      ]
     },
     "execution_count": 11,
     "metadata": {},
     "output_type": "execute_result"
    }
   ],
   "source": [
    "ubm.means_.shape"
   ]
  },
  {
   "cell_type": "markdown",
   "id": "08a4346d",
   "metadata": {},
   "source": [
    "## Train Female and Male models\n",
    "\n",
    "$T$ — количество семплов, $F$ — количество признаков, $K$ — количество компонент в гауссовой смеси."
   ]
  },
  {
   "cell_type": "code",
   "execution_count": 94,
   "id": "d208abde",
   "metadata": {},
   "outputs": [],
   "source": [
    "female_dir_train = './dataset_supervectors/train_data/female'\n",
    "male_dir_train   = './dataset_supervectors/train_data/male'\n",
    "\n",
    "# Relevance parameter.\n",
    "r = 16\n",
    "\n",
    "# Number of adaptation iterations.\n",
    "max_iter = 10"
   ]
  },
  {
   "cell_type": "markdown",
   "id": "ea08857d",
   "metadata": {},
   "source": [
    "### Get female model"
   ]
  },
  {
   "cell_type": "code",
   "execution_count": 13,
   "id": "d6c25cf5",
   "metadata": {},
   "outputs": [],
   "source": [
    "features_female = get_features_from_directory(female_dir_train)"
   ]
  },
  {
   "cell_type": "code",
   "execution_count": 95,
   "id": "df85f43f",
   "metadata": {
    "scrolled": true
   },
   "outputs": [],
   "source": [
    "gmm_female = map_adapt(ubm, features_female, max_iter=max_iter, r=r)"
   ]
  },
  {
   "cell_type": "markdown",
   "id": "3a914f04",
   "metadata": {},
   "source": [
    "### Get male model"
   ]
  },
  {
   "cell_type": "code",
   "execution_count": 24,
   "id": "d20da51c",
   "metadata": {},
   "outputs": [],
   "source": [
    "features_male = get_features_from_directory(male_dir_train)"
   ]
  },
  {
   "cell_type": "code",
   "execution_count": 96,
   "id": "cf652b02",
   "metadata": {},
   "outputs": [],
   "source": [
    "gmm_male = map_adapt(ubm, features_male, max_iter=max_iter, r=r)"
   ]
  },
  {
   "cell_type": "markdown",
   "id": "32611034",
   "metadata": {},
   "source": [
    "### Get female model no UBM"
   ]
  },
  {
   "cell_type": "code",
   "execution_count": 88,
   "id": "00847ea8",
   "metadata": {},
   "outputs": [
    {
     "data": {
      "text/plain": [
       "GaussianMixture(covariance_type='diag', max_iter=200, n_components=64, n_init=3)"
      ]
     },
     "execution_count": 88,
     "metadata": {},
     "output_type": "execute_result"
    }
   ],
   "source": [
    "gmm_female_no_ubm = GaussianMixture(n_components=64,\n",
    "                                    covariance_type='diag',\n",
    "                                    n_init=3,\n",
    "                                    max_iter=200)\n",
    "\n",
    "gmm_female_no_ubm.fit(features_female)"
   ]
  },
  {
   "cell_type": "markdown",
   "id": "c539f549",
   "metadata": {},
   "source": [
    "### Get male model no UBM"
   ]
  },
  {
   "cell_type": "code",
   "execution_count": 89,
   "id": "d9969bf9",
   "metadata": {},
   "outputs": [
    {
     "data": {
      "text/plain": [
       "GaussianMixture(covariance_type='diag', max_iter=200, n_components=64, n_init=3)"
      ]
     },
     "execution_count": 89,
     "metadata": {},
     "output_type": "execute_result"
    }
   ],
   "source": [
    "gmm_male_no_ubm = GaussianMixture(n_components=64,\n",
    "                                  covariance_type='diag',\n",
    "                                  n_init=3,\n",
    "                                  max_iter=200)\n",
    "\n",
    "gmm_male_no_ubm.fit(features_male)"
   ]
  },
  {
   "cell_type": "markdown",
   "id": "dc8ecbc6",
   "metadata": {},
   "source": [
    "# Evaluation"
   ]
  },
  {
   "cell_type": "code",
   "execution_count": 97,
   "id": "187b8389",
   "metadata": {},
   "outputs": [],
   "source": [
    "female_acc = test_gmm([gmm_female, gmm_male],\n",
    "                      labels=['f', 'm'],\n",
    "                      correct_label='f',\n",
    "                      directory='./dataset_supervectors/test_data/female')"
   ]
  },
  {
   "cell_type": "code",
   "execution_count": 98,
   "id": "8efd8823",
   "metadata": {},
   "outputs": [
    {
     "data": {
      "text/plain": [
       "0.8469387755102041"
      ]
     },
     "execution_count": 98,
     "metadata": {},
     "output_type": "execute_result"
    }
   ],
   "source": [
    "female_acc"
   ]
  },
  {
   "cell_type": "code",
   "execution_count": 99,
   "id": "bf25b361",
   "metadata": {},
   "outputs": [],
   "source": [
    "male_acc = test_gmm([gmm_female, gmm_male],\n",
    "                    labels=['f', 'm'],\n",
    "                    correct_label='m',\n",
    "                    directory='./dataset_supervectors/test_data/male')"
   ]
  },
  {
   "cell_type": "code",
   "execution_count": 100,
   "id": "e8436d66",
   "metadata": {},
   "outputs": [
    {
     "data": {
      "text/plain": [
       "0.7937062937062938"
      ]
     },
     "execution_count": 100,
     "metadata": {},
     "output_type": "execute_result"
    }
   ],
   "source": [
    "male_acc"
   ]
  },
  {
   "cell_type": "code",
   "execution_count": 90,
   "id": "26a06810",
   "metadata": {},
   "outputs": [],
   "source": [
    "female_no_ubm_acc = test_gmm([gmm_female_no_ubm, gmm_male_no_ubm],\n",
    "                             labels=['f', 'm'],\n",
    "                             correct_label='f',\n",
    "                             directory='./dataset_supervectors/test_data/female')"
   ]
  },
  {
   "cell_type": "code",
   "execution_count": 91,
   "id": "b9c2de1a",
   "metadata": {},
   "outputs": [
    {
     "data": {
      "text/plain": [
       "0.8537414965986394"
      ]
     },
     "execution_count": 91,
     "metadata": {},
     "output_type": "execute_result"
    }
   ],
   "source": [
    "female_no_ubm_acc"
   ]
  },
  {
   "cell_type": "code",
   "execution_count": 92,
   "id": "117eae93",
   "metadata": {},
   "outputs": [],
   "source": [
    "male_no_ubm_acc = test_gmm([gmm_female_no_ubm, gmm_male_no_ubm],\n",
    "                           labels=['f', 'm'],\n",
    "                           correct_label='m',\n",
    "                           directory='./dataset_supervectors/test_data/male')"
   ]
  },
  {
   "cell_type": "code",
   "execution_count": 93,
   "id": "99b0c924",
   "metadata": {},
   "outputs": [
    {
     "data": {
      "text/plain": [
       "0.8041958041958042"
      ]
     },
     "execution_count": 93,
     "metadata": {},
     "output_type": "execute_result"
    }
   ],
   "source": [
    "male_no_ubm_acc"
   ]
  }
 ],
 "metadata": {
  "kernelspec": {
   "display_name": "Python 3 (ipykernel)",
   "language": "python",
   "name": "python3"
  },
  "language_info": {
   "codemirror_mode": {
    "name": "ipython",
    "version": 3
   },
   "file_extension": ".py",
   "mimetype": "text/x-python",
   "name": "python",
   "nbconvert_exporter": "python",
   "pygments_lexer": "ipython3",
   "version": "3.9.13"
  }
 },
 "nbformat": 4,
 "nbformat_minor": 5
}
